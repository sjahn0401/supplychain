{
 "cells": [
  {
   "cell_type": "code",
   "execution_count": 40,
   "metadata": {},
   "outputs": [
    {
     "data": {
      "text/plain": [
       "3073.9153138822376"
      ]
     },
     "execution_count": 40,
     "metadata": {},
     "output_type": "execute_result"
    }
   ],
   "source": [
    "import pandas as pd\n",
    "from math import sqrt\n",
    "\n",
    "products = [\n",
    "    {'demand': 1000, 'common': 100, 'specific': 10, 'unit': 50, 'holding': 0.2},\n",
    "    {'demand': 300, 'common': 100, 'specific': 20, 'unit': 60, 'holding': 0.2},\n",
    "    {'demand': 100, 'common': 100, 'specific': 25, 'unit': 30, 'holding': 0.2},\n",
    "    {'demand': 50, 'common': 100, 'specific': 25, 'unit': 30, 'holding': 0.2}\n",
    "]\n",
    "\n",
    "def independent_sourcing(products):\n",
    "    total_cost = 0\n",
    "    for product in products:\n",
    "        setup_cost = product['common'] + product['specific']\n",
    "        holding_cost_rate = product['holding'] * product['unit']\n",
    "        economic_order_quantity = sqrt((2 * product['demand'] * setup_cost) / holding_cost_rate)\n",
    "        ordering_cost = (product['demand'] * setup_cost) / economic_order_quantity\n",
    "        holding_cost = (holding_cost_rate * economic_order_quantity) / 2\n",
    "        total_cost += ordering_cost + holding_cost\n",
    "    return total_cost\n",
    "\n",
    "independent_cost = independent_sourcing(products)\n",
    "independent_cost"
   ]
  },
  {
   "cell_type": "code",
   "execution_count": 41,
   "metadata": {},
   "outputs": [
    {
     "data": {
      "text/plain": [
       "2284.7319317591728"
      ]
     },
     "execution_count": 41,
     "metadata": {},
     "output_type": "execute_result"
    }
   ],
   "source": [
    "#question 1\n",
    "def joint_sourcing(products):\n",
    "    C_common = products[0]['common']  \n",
    "    S_total = C_common + sum(product['specific'] for product in products)  \n",
    "    n = sqrt(sum(product['demand'] * product['holding'] * product['unit'] for product in products) / (2 * S_total))\n",
    "    total_ordering_cost = n * S_total\n",
    "    total_holding_cost = 0\n",
    "    for product in products:\n",
    "        Q = product['demand'] / n\n",
    "        holding_cost = Q * product['holding'] * product['unit'] / 2\n",
    "        total_holding_cost += holding_cost\n",
    "    return total_ordering_cost + total_holding_cost\n",
    "joint_cost = joint_sourcing(products)\n",
    "joint_cost"
   ]
  },
  {
   "cell_type": "code",
   "execution_count": 44,
   "metadata": {},
   "outputs": [
    {
     "data": {
      "text/html": [
       "<div>\n",
       "<style scoped>\n",
       "    .dataframe tbody tr th:only-of-type {\n",
       "        vertical-align: middle;\n",
       "    }\n",
       "\n",
       "    .dataframe tbody tr th {\n",
       "        vertical-align: top;\n",
       "    }\n",
       "\n",
       "    .dataframe thead th {\n",
       "        text-align: right;\n",
       "    }\n",
       "</style>\n",
       "<table border=\"1\" class=\"dataframe\">\n",
       "  <thead>\n",
       "    <tr style=\"text-align: right;\">\n",
       "      <th></th>\n",
       "      <th>demand</th>\n",
       "      <th>common</th>\n",
       "      <th>specific</th>\n",
       "      <th>unit</th>\n",
       "      <th>holding</th>\n",
       "      <th>frequency</th>\n",
       "      <th>m_i</th>\n",
       "      <th>Q</th>\n",
       "      <th>nfreq</th>\n",
       "      <th>nQ</th>\n",
       "    </tr>\n",
       "  </thead>\n",
       "  <tbody>\n",
       "    <tr>\n",
       "      <th>0</th>\n",
       "      <td>1000</td>\n",
       "      <td>100</td>\n",
       "      <td>10</td>\n",
       "      <td>50</td>\n",
       "      <td>0.2</td>\n",
       "      <td>6.741999</td>\n",
       "      <td>1.0</td>\n",
       "      <td>NaN</td>\n",
       "      <td>7.214167</td>\n",
       "      <td>138.616151</td>\n",
       "    </tr>\n",
       "    <tr>\n",
       "      <th>1</th>\n",
       "      <td>300</td>\n",
       "      <td>100</td>\n",
       "      <td>20</td>\n",
       "      <td>60</td>\n",
       "      <td>0.2</td>\n",
       "      <td>9.486833</td>\n",
       "      <td>1.0</td>\n",
       "      <td>31.622777</td>\n",
       "      <td>7.214167</td>\n",
       "      <td>41.584845</td>\n",
       "    </tr>\n",
       "    <tr>\n",
       "      <th>2</th>\n",
       "      <td>100</td>\n",
       "      <td>100</td>\n",
       "      <td>25</td>\n",
       "      <td>30</td>\n",
       "      <td>0.2</td>\n",
       "      <td>3.464102</td>\n",
       "      <td>2.0</td>\n",
       "      <td>28.867513</td>\n",
       "      <td>3.607083</td>\n",
       "      <td>27.723230</td>\n",
       "    </tr>\n",
       "    <tr>\n",
       "      <th>3</th>\n",
       "      <td>50</td>\n",
       "      <td>100</td>\n",
       "      <td>25</td>\n",
       "      <td>30</td>\n",
       "      <td>0.2</td>\n",
       "      <td>2.449490</td>\n",
       "      <td>3.0</td>\n",
       "      <td>20.412415</td>\n",
       "      <td>2.404722</td>\n",
       "      <td>20.792423</td>\n",
       "    </tr>\n",
       "  </tbody>\n",
       "</table>\n",
       "</div>"
      ],
      "text/plain": [
       "   demand  common  specific  unit  holding  frequency  m_i          Q  \\\n",
       "0    1000     100        10    50      0.2   6.741999  1.0        NaN   \n",
       "1     300     100        20    60      0.2   9.486833  1.0  31.622777   \n",
       "2     100     100        25    30      0.2   3.464102  2.0  28.867513   \n",
       "3      50     100        25    30      0.2   2.449490  3.0  20.412415   \n",
       "\n",
       "      nfreq          nQ  \n",
       "0  7.214167  138.616151  \n",
       "1  7.214167   41.584845  \n",
       "2  3.607083   27.723230  \n",
       "3  2.404722   20.792423  "
      ]
     },
     "execution_count": 44,
     "metadata": {},
     "output_type": "execute_result"
    }
   ],
   "source": [
    "#question 2\n",
    "import pandas as pd\n",
    "products = pd.DataFrame(products)\n",
    "\n",
    "S_common_first = products.at[0, 'common']\n",
    "S_specific_first = products.at[0, 'specific']\n",
    "H_holding_first = products.at[0, 'holding'] * products.at[0, 'unit']\n",
    "D_demand_first = products.at[0, 'demand']\n",
    "\n",
    "EOQ_first = sqrt((2 * D_demand_first * (S_common_first + S_specific_first)) / H_holding_first)\n",
    "frequency_first = D_demand_first / EOQ_first\n",
    "\n",
    "products.at[0, 'frequency'] = frequency_first\n",
    "products.at[0, 'm_i'] = 1\n",
    "\n",
    "products.loc[1:, 'Q'] = ((2 * products['demand'] * products['specific']) / (products['holding'] * products['unit'])).pow(0.5)\n",
    "products.loc[1:, 'frequency'] = products['demand'] / products.loc[1:, 'Q']\n",
    "products.loc[1:, 'm_i'] = round(frequency_first / products.loc[1:, 'frequency'])\n",
    "\n",
    "products"
   ]
  },
  {
   "cell_type": "code",
   "execution_count": 47,
   "metadata": {},
   "outputs": [
    {
     "data": {
      "text/plain": [
       "2176.2735734890193"
      ]
     },
     "execution_count": 47,
     "metadata": {},
     "output_type": "execute_result"
    }
   ],
   "source": [
    "#question 3\n",
    "h = products['holding']\n",
    "C = products['unit']\n",
    "D = products['demand']\n",
    "m = products['m_i']\n",
    "S = 100\n",
    "s = products['specific']\n",
    "\n",
    "n_updated = sqrt((products['holding'] * products['unit'] * products['demand'] * products['m_i']).sum() / \n",
    "                 (2 * (S + (products['specific'] / products['m_i']).sum())))\n",
    "\n",
    "products['nfreq'] = n_updated / products['m_i']\n",
    "products.loc[0, 'nfreq'] = n_updated\n",
    "products['nQ'] = products['demand'] / products['nfreq']\n",
    "holding_cost = (products['nQ'] * products['holding'] * products['unit'] / 2).sum()\n",
    "ordering_cost = (products['demand'] * products['specific'] / products['nQ']).sum()\n",
    "\n",
    "total_cost = holding_cost + ordering_cost + products['nfreq'].max() * S\n",
    "total_cost"
   ]
  }
 ],
 "metadata": {
  "kernelspec": {
   "display_name": "Python 3 (ipykernel)",
   "language": "python",
   "name": "python3"
  },
  "language_info": {
   "codemirror_mode": {
    "name": "ipython",
    "version": 3
   },
   "file_extension": ".py",
   "mimetype": "text/x-python",
   "name": "python",
   "nbconvert_exporter": "python",
   "pygments_lexer": "ipython3",
   "version": "3.11.5"
  }
 },
 "nbformat": 4,
 "nbformat_minor": 2
}
